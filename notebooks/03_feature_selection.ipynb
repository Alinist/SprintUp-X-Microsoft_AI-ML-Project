{
 "cells": [
  {
   "cell_type": "markdown",
   "id": "70e1d25f",
   "metadata": {},
   "source": [
    "# Libraries"
   ]
  },
  {
   "cell_type": "code",
   "execution_count": 1,
   "id": "7c94f1ec",
   "metadata": {},
   "outputs": [],
   "source": [
    "import pandas as pd\n",
    "from sklearn.ensemble import RandomForestClassifier\n",
    "import matplotlib.pyplot as plt\n",
    "import seaborn as sns\n",
    "from sklearn.feature_selection import RFE, SelectKBest, chi2\n",
    "from sklearn.linear_model import LogisticRegression"
   ]
  },
  {
   "cell_type": "markdown",
   "id": "1d6c1b38",
   "metadata": {},
   "source": [
    "# Load Data"
   ]
  },
  {
   "cell_type": "code",
   "execution_count": 2,
   "id": "6a06bc35",
   "metadata": {},
   "outputs": [],
   "source": [
    "# Load cleaned data\n",
    "df = pd.read_csv(\"../data/cleaned_heart_disease.csv\")\n",
    "\n",
    "# Separate inputs and outputs\n",
    "X = df.drop([\"target\", \"has_disease\"], axis=1)\n",
    "y_binary = df[\"has_disease\"]\n",
    "y_severity = df[\"target\"]"
   ]
  },
  {
   "cell_type": "markdown",
   "id": "9df858e7",
   "metadata": {},
   "source": [
    "# Feature Importance using Random Forest"
   ]
  },
  {
   "cell_type": "code",
   "execution_count": 3,
   "id": "25274546",
   "metadata": {},
   "outputs": [
    {
     "data": {
      "image/png": "[encoded data removed]",
      "text/plain": [
       "<Figure size 1000x600 with 1 Axes>"
      ]
     },
     "metadata": {},
     "output_type": "display_data"
    }
   ],
   "source": [
    "# Binary classification (has_disease)\n",
    "model_rf = RandomForestClassifier(random_state=42)\n",
    "model_rf.fit(X, y_binary)\n",
    "\n",
    "# Feature importances\n",
    "importances = model_rf.feature_importances_\n",
    "features = X.columns\n",
    "\n",
    "# Plot\n",
    "plt.figure(figsize=(10,6))\n",
    "sns.barplot(x=importances, y=features)\n",
    "plt.title(\"Feature Importance (has_disease)\")\n",
    "plt.show()\n"
   ]
  },
  {
   "cell_type": "markdown",
   "id": "271e5045",
   "metadata": {},
   "source": [
    "# Recursive Feature Elimination (RFE)"
   ]
  },
  {
   "cell_type": "code",
   "execution_count": 4,
   "id": "fb508c55",
   "metadata": {},
   "outputs": [
    {
     "name": "stdout",
     "output_type": "stream",
     "text": [
      "✔️ Selected Features by RFE (has_disease): ['sex', 'cp', 'exang', 'oldpeak', 'ca']\n"
     ]
    }
   ],
   "source": [
    "model_lr = LogisticRegression(max_iter=1000)\n",
    "rfe = RFE(model_lr, n_features_to_select=5)  # Choose top 5 features\n",
    "rfe.fit(X, y_binary)\n",
    "\n",
    "# Display selected features\n",
    "selected_rfe_features = X.columns[rfe.support_]\n",
    "print(\"✔️ Selected Features by RFE (has_disease):\", selected_rfe_features.tolist())\n"
   ]
  },
  {
   "cell_type": "markdown",
   "id": "e26b3894",
   "metadata": {},
   "source": [
    "# Chi-Square Test"
   ]
  },
  {
   "cell_type": "code",
   "execution_count": 5,
   "id": "1958fc28",
   "metadata": {},
   "outputs": [
    {
     "name": "stdout",
     "output_type": "stream",
     "text": [
      "✔️ Selected Features by Chi-Square: ['cp', 'thalch', 'exang', 'oldpeak', 'ca']\n"
     ]
    }
   ],
   "source": [
    "\n",
    "# Make all features non-negative (required for chi2)\n",
    "X_chi = X.copy()\n",
    "X_chi = X_chi.apply(lambda x: x - x.min() if x.min() < 0 else x)\n",
    "\n",
    "chi_selector = SelectKBest(score_func=chi2, k=5)\n",
    "chi_selector.fit(X_chi, y_binary)\n",
    "\n",
    "selected_chi_features = X.columns[chi_selector.get_support()]\n",
    "print(\"✔️ Selected Features by Chi-Square:\", selected_chi_features.tolist())\n"
   ]
  },
  {
   "cell_type": "markdown",
   "id": "927a0245",
   "metadata": {},
   "source": [
    "# Select only the most relevant features for modeling"
   ]
  },
  {
   "cell_type": "code",
   "execution_count": 6,
   "id": "141e166e",
   "metadata": {},
   "outputs": [
    {
     "name": "stdout",
     "output_type": "stream",
     "text": [
      "✔️ All Selected Features: ['ca', 'oldpeak', 'cp', 'sex', 'thalch', 'exang']\n"
     ]
    },
    {
     "name": "stderr",
     "output_type": "stream",
     "text": [
      "C:\\Users\\alyas\\AppData\\Local\\Temp\\ipykernel_22168\\1554839264.py:7: SettingWithCopyWarning: \n",
      "A value is trying to be set on a copy of a slice from a DataFrame.\n",
      "Try using .loc[row_indexer,col_indexer] = value instead\n",
      "\n",
      "See the caveats in the documentation: https://pandas.pydata.org/pandas-docs/stable/user_guide/indexing.html#returning-a-view-versus-a-copy\n",
      "  X_reduced[\"has_disease\"] = y_binary\n"
     ]
    }
   ],
   "source": [
    "all_selected_features = list(set(selected_rfe_features.tolist()) | set(selected_chi_features.tolist()))\n",
    "print(\"✔️ All Selected Features:\", all_selected_features)\n",
    "\n",
    "X_reduced = X[all_selected_features]\n",
    "\n",
    "# Save for modeling\n",
    "X_reduced[\"has_disease\"] = y_binary\n",
    "X_reduced.to_csv(\"../data/reduced_features_has_disease.csv\", index=False)"
   ]
  }
 ],
 "metadata": {
  "kernelspec": {
   "display_name": "Python (steam-ml-env)",
   "language": "python",
   "name": "steam-ml-env"
  },
  "language_info": {
   "codemirror_mode": {
    "name": "ipython",
    "version": 3
   },
   "file_extension": ".py",
   "mimetype": "text/x-python",
   "name": "python",
   "nbconvert_exporter": "python",
   "pygments_lexer": "ipython3",
   "version": "3.12.2"
  }
 },
 "nbformat": 4,
 "nbformat_minor": 5
}
