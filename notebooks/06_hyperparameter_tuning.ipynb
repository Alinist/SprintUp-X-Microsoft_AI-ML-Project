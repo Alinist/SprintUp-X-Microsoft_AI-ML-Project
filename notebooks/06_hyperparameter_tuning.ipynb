{
 "cells": [
  {
   "cell_type": "markdown",
   "id": "12c4bcf3",
   "metadata": {},
   "source": [
    "# Libraries"
   ]
  },
  {
   "cell_type": "code",
   "execution_count": 21,
   "id": "6f5cb6b9",
   "metadata": {},
   "outputs": [],
   "source": [
    "from sklearn.model_selection import GridSearchCV\n",
    "from sklearn.model_selection import RandomizedSearchCV\n",
    "from sklearn.linear_model import LogisticRegression\n",
    "from sklearn.tree import DecisionTreeClassifier\n",
    "from sklearn.ensemble import RandomForestClassifier\n",
    "from sklearn.svm import SVC\n",
    "from sklearn.metrics import classification_report, accuracy_score\n",
    "import joblib\n",
    "import pandas as pd\n",
    "from xgboost import XGBClassifier\n"
   ]
  },
  {
   "cell_type": "markdown",
   "id": "f7e39557",
   "metadata": {},
   "source": [
    "# Load Data"
   ]
  },
  {
   "cell_type": "code",
   "execution_count": 22,
   "id": "53a7a883",
   "metadata": {},
   "outputs": [],
   "source": [
    "# Non PCA Data\n",
    "# X_train = joblib.load(\"../data/X_train.pkl\")\n",
    "# X_test = joblib.load(\"../data/X_test.pkl\")\n",
    "# y_train = joblib.load(\"../data/y_train.pkl\")\n",
    "# y_test = joblib.load(\"../data/y_test.pkl\")\n",
    "\n",
    "# PCA Data\n",
    "train_df = pd.read_csv(\"../data/pca_train.csv\")\n",
    "test_df = pd.read_csv(\"../data/pca_test.csv\")\n",
    "\n",
    "X_train = train_df.drop(columns=[\"has_disease\"])\n",
    "y_train = train_df[\"has_disease\"]\n",
    "\n",
    "X_test = test_df.drop(columns=[\"has_disease\"])\n",
    "y_test = test_df[\"has_disease\"]"
   ]
  },
  {
   "cell_type": "markdown",
   "id": "81e58c5c",
   "metadata": {},
   "source": [
    "# Logistic Regression Hyperparameter Tuning"
   ]
  },
  {
   "cell_type": "code",
   "execution_count": 23,
   "id": "078465cf",
   "metadata": {},
   "outputs": [
    {
     "name": "stdout",
     "output_type": "stream",
     "text": [
      "Best Logistic Regression Params: {'C': 0.1, 'penalty': 'l2', 'solver': 'liblinear'}\n",
      "              precision    recall  f1-score   support\n",
      "\n",
      "           0       0.82      0.76      0.78        82\n",
      "           1       0.81      0.86      0.84       102\n",
      "\n",
      "    accuracy                           0.82       184\n",
      "   macro avg       0.82      0.81      0.81       184\n",
      "weighted avg       0.82      0.82      0.81       184\n",
      "\n"
     ]
    }
   ],
   "source": [
    "param_grid_lr = {\n",
    "    \"C\": [0.01, 0.1, 1, 10, 100],\n",
    "    \"penalty\": [\"l1\", \"l2\"],\n",
    "    \"solver\": [\"liblinear\"]\n",
    "}\n",
    "\n",
    "grid_lr = GridSearchCV(\n",
    "    estimator=LogisticRegression(max_iter=1000, random_state=42),\n",
    "    param_grid=param_grid_lr,\n",
    "    scoring=\"roc_auc\",\n",
    "    cv=5,\n",
    "    n_jobs=-1\n",
    ")\n",
    "\n",
    "grid_lr.fit(X_train, y_train)\n",
    "\n",
    "print(\"Best Logistic Regression Params:\", grid_lr.best_params_)\n",
    "print(classification_report(y_test, grid_lr.best_estimator_.predict(X_test)))"
   ]
  },
  {
   "cell_type": "markdown",
   "id": "1f408add",
   "metadata": {},
   "source": [
    "# Random Forest Hyperparameter Tuning"
   ]
  },
  {
   "cell_type": "code",
   "execution_count": 24,
   "id": "ef398733",
   "metadata": {},
   "outputs": [
    {
     "name": "stdout",
     "output_type": "stream",
     "text": [
      "Best Random Forest Params: {'n_estimators': 300, 'min_samples_split': 2, 'min_samples_leaf': 1, 'max_depth': 10, 'bootstrap': True}\n",
      "              precision    recall  f1-score   support\n",
      "\n",
      "           0       0.83      0.77      0.80        82\n",
      "           1       0.82      0.87      0.85       102\n",
      "\n",
      "    accuracy                           0.83       184\n",
      "   macro avg       0.83      0.82      0.82       184\n",
      "weighted avg       0.83      0.83      0.83       184\n",
      "\n"
     ]
    }
   ],
   "source": [
    "param_dist_rf = {\n",
    "    \"n_estimators\": [50, 100, 200, 300],\n",
    "    \"max_depth\": [None, 5, 10, 20],\n",
    "    \"min_samples_split\": [2, 5, 10],\n",
    "    \"min_samples_leaf\": [1, 2, 4],\n",
    "    \"bootstrap\": [True, False]\n",
    "}\n",
    "\n",
    "rand_rf = RandomizedSearchCV(\n",
    "    estimator=RandomForestClassifier(random_state=42),\n",
    "    param_distributions=param_dist_rf,\n",
    "    n_iter=20,\n",
    "    scoring=\"roc_auc\",\n",
    "    cv=5,\n",
    "    n_jobs=-1,\n",
    "    random_state=42\n",
    ")\n",
    "\n",
    "rand_rf.fit(X_train, y_train)\n",
    "\n",
    "print(\"Best Random Forest Params:\", rand_rf.best_params_)\n",
    "print(classification_report(y_test, rand_rf.best_estimator_.predict(X_test)))"
   ]
  },
  {
   "cell_type": "markdown",
   "id": "3469bc97",
   "metadata": {},
   "source": [
    "# SVM Hyperparameter Tuning (GridSearchCV)"
   ]
  },
  {
   "cell_type": "code",
   "execution_count": 25,
   "id": "f820848b",
   "metadata": {},
   "outputs": [
    {
     "name": "stdout",
     "output_type": "stream",
     "text": [
      "Best SVM Params: {'C': 1, 'gamma': 'auto', 'kernel': 'rbf'}\n",
      "              precision    recall  f1-score   support\n",
      "\n",
      "           0       0.89      0.78      0.83        82\n",
      "           1       0.84      0.92      0.88       102\n",
      "\n",
      "    accuracy                           0.86       184\n",
      "   macro avg       0.86      0.85      0.85       184\n",
      "weighted avg       0.86      0.86      0.86       184\n",
      "\n"
     ]
    }
   ],
   "source": [
    "param_grid_svc = {\n",
    "    \"C\": [0.1, 1, 10],\n",
    "    \"kernel\": [\"linear\", \"rbf\", \"poly\"],\n",
    "    \"gamma\": [\"scale\", \"auto\"]\n",
    "}\n",
    "\n",
    "grid_svc = GridSearchCV(\n",
    "    estimator=SVC(random_state=42),\n",
    "    param_grid=param_grid_svc,\n",
    "    scoring=\"roc_auc\",\n",
    "    cv=5,\n",
    "    n_jobs=-1\n",
    ")\n",
    "\n",
    "grid_svc.fit(X_train, y_train)\n",
    "\n",
    "print(\"Best SVM Params:\", grid_svc.best_params_)\n",
    "print(classification_report(y_test, grid_svc.best_estimator_.predict(X_test)))"
   ]
  },
  {
   "cell_type": "markdown",
   "id": "56699d73",
   "metadata": {},
   "source": [
    "# Decision Tree Hyperparameter Tuning (GridSearchCV)"
   ]
  },
  {
   "cell_type": "code",
   "execution_count": 26,
   "id": "669bfc77",
   "metadata": {},
   "outputs": [
    {
     "name": "stdout",
     "output_type": "stream",
     "text": [
      "Best Decision Tree Params: {'criterion': 'gini', 'max_depth': 5, 'min_samples_split': 10}\n",
      "              precision    recall  f1-score   support\n",
      "\n",
      "           0       0.75      0.76      0.75        82\n",
      "           1       0.80      0.79      0.80       102\n",
      "\n",
      "    accuracy                           0.78       184\n",
      "   macro avg       0.77      0.78      0.77       184\n",
      "weighted avg       0.78      0.78      0.78       184\n",
      "\n"
     ]
    }
   ],
   "source": [
    "param_grid_tree = {\n",
    "    \"max_depth\": [None, 5, 10, 20],\n",
    "    \"min_samples_split\": [2, 5, 10],\n",
    "    \"criterion\": [\"gini\", \"entropy\"]\n",
    "}\n",
    "\n",
    "grid_tree = GridSearchCV(\n",
    "    estimator=DecisionTreeClassifier(random_state=42),\n",
    "    param_grid=param_grid_tree,\n",
    "    scoring=\"roc_auc\",\n",
    "    cv=5,\n",
    "    n_jobs=-1\n",
    ")\n",
    "\n",
    "grid_tree.fit(X_train, y_train)\n",
    "\n",
    "print(\"Best Decision Tree Params:\", grid_tree.best_params_)\n",
    "print(classification_report(y_test, grid_tree.best_estimator_.predict(X_test)))\n"
   ]
  },
  {
   "cell_type": "markdown",
   "id": "4a12d378",
   "metadata": {},
   "source": [
    "# XGBoost Hyperparameter Tuning (RandomizedSearchCV)"
   ]
  },
  {
   "cell_type": "code",
   "execution_count": 27,
   "id": "3a37f05b",
   "metadata": {},
   "outputs": [
    {
     "name": "stdout",
     "output_type": "stream",
     "text": [
      "Best XGBoost Params: {'subsample': 0.6, 'reg_lambda': 1, 'reg_alpha': 0, 'n_estimators': 300, 'max_depth': 5, 'learning_rate': 0.01, 'gamma': 0, 'colsample_bytree': 0.6}\n",
      "              precision    recall  f1-score   support\n",
      "\n",
      "           0       0.83      0.76      0.79        82\n",
      "           1       0.82      0.87      0.84       102\n",
      "\n",
      "    accuracy                           0.82       184\n",
      "   macro avg       0.82      0.81      0.82       184\n",
      "weighted avg       0.82      0.82      0.82       184\n",
      "\n"
     ]
    }
   ],
   "source": [
    "param_dist_xgb = {\n",
    "    \"n_estimators\": [50, 100, 200, 300],\n",
    "    \"max_depth\": [3, 5, 7, 10],\n",
    "    \"learning_rate\": [0.01, 0.05, 0.1, 0.2],\n",
    "    \"subsample\": [0.6, 0.8, 1.0],\n",
    "    \"colsample_bytree\": [0.6, 0.8, 1.0],\n",
    "    \"gamma\": [0, 0.1, 0.3, 0.5],\n",
    "    \"reg_alpha\": [0, 0.1, 0.5],\n",
    "    \"reg_lambda\": [1, 1.5, 2]\n",
    "}\n",
    "\n",
    "rand_xgb = RandomizedSearchCV(\n",
    "    estimator=XGBClassifier(eval_metric='logloss', random_state=42),\n",
    "    param_distributions=param_dist_xgb,\n",
    "    n_iter=30,\n",
    "    scoring=\"roc_auc\",\n",
    "    cv=5,\n",
    "    n_jobs=-1,\n",
    "    random_state=42\n",
    ")\n",
    "\n",
    "rand_xgb.fit(X_train, y_train)\n",
    "\n",
    "print(\"Best XGBoost Params:\", rand_xgb.best_params_)\n",
    "print(classification_report(y_test, rand_xgb.best_estimator_.predict(X_test)))"
   ]
  },
  {
   "cell_type": "markdown",
   "id": "d49966ba",
   "metadata": {},
   "source": [
    "# Compare Optimized Models"
   ]
  },
  {
   "cell_type": "code",
   "execution_count": 28,
   "id": "10c93b80",
   "metadata": {},
   "outputs": [
    {
     "name": "stdout",
     "output_type": "stream",
     "text": [
      "\n",
      "Tuned Model Performance:\n",
      "\n",
      "SVM: Accuracy = 0.8587\n",
      "Random Forest: Accuracy = 0.8261\n",
      "XGBoost: Accuracy = 0.8207\n",
      "Logistic Regression: Accuracy = 0.8152\n",
      "Decision Tree: Accuracy = 0.7772\n"
     ]
    }
   ],
   "source": [
    "tuned_models = {\n",
    "    \"Logistic Regression\": grid_lr.best_estimator_,\n",
    "    \"Decision Tree\": grid_tree.best_estimator_,\n",
    "    \"Random Forest\": rand_rf.best_estimator_,\n",
    "    \"SVM\": grid_svc.best_estimator_,\n",
    "    \"XGBoost\": rand_xgb.best_estimator_\n",
    "}\n",
    "\n",
    "accuracies =  []\n",
    "\n",
    "print(\"\\nTuned Model Performance:\\n\")\n",
    "for name, model in sorted(tuned_models.items()):\n",
    "    preds = model.predict(X_test)\n",
    "    acc = accuracy_score(y_test, preds)\n",
    "    accuracies.append((name, acc))\n",
    "\n",
    "# print sorted accuracies\n",
    "accuracies.sort(key=lambda x: x[1], reverse=True)\n",
    "for name, acc in accuracies:\n",
    "    print(f\"{name}: Accuracy = {acc:.4f}\")\n",
    "\n",
    "# for name, model in tuned_models.items():\n",
    "#     model.fit(X_train, y_train)\n",
    "#     joblib.dump(model, f\"../models/all_models/{name}_tuned.pkl\")\n",
    "#     joblib.dump(model, f\"../models/all_models/{name}_PCA_tuned.pkl\")\n",
    "#     print(f\"Saved {name} model.\")"
   ]
  },
  {
   "cell_type": "markdown",
   "id": "25a60639",
   "metadata": {},
   "source": [
    "# Best Model"
   ]
  },
  {
   "cell_type": "code",
   "execution_count": 29,
   "id": "c82bf514",
   "metadata": {},
   "outputs": [
    {
     "name": "stdout",
     "output_type": "stream",
     "text": [
      "\n",
      "Performance Metrics for Best Model (SVM):\n",
      "Accuracy     : 0.8587\n",
      "Precision    : 0.8393\n",
      "Recall       : 0.9216\n",
      "F1-Score     : 0.8785\n",
      "ROC-AUC      : Not supported by model\n"
     ]
    }
   ],
   "source": [
    "# load all models in ../models/all_models/\n",
    "from sklearn.metrics import f1_score, precision_score, recall_score, roc_auc_score\n",
    "\n",
    "\n",
    "models = {}\n",
    "\n",
    "for name in [\"Logistic Regression\", \"Decision Tree\", \"Random Forest\", \"SVM\", \"XGBoost\"]:\n",
    "    models[name] = joblib.load(f\"../models/all_models/{name}.pkl\")\n",
    "\n",
    "for name in [\"Logistic Regression\", \"Decision Tree\", \"Random Forest\", \"SVM\", \"XGBoost\"]:\n",
    "    models[name] = joblib.load(f\"../models/all_models/{name}_PCA.pkl\")\n",
    "\n",
    "for name in [\"Logistic Regression\", \"Decision Tree\", \"Random Forest\", \"SVM\", \"XGBoost\"]:\n",
    "    models[name] = joblib.load(f\"../models/all_models/{name}_tuned.pkl\")\n",
    "\n",
    "for name in [\"Logistic Regression\", \"Decision Tree\", \"Random Forest\", \"SVM\", \"XGBoost\"]:\n",
    "    models[name] = joblib.load(f\"../models/all_models/{name}_PCA_tuned.pkl\")\n",
    "\n",
    "best_model_name = None\n",
    "best_acc = 0\n",
    "for name, model in models.items():\n",
    "    preds = model.predict(X_test)\n",
    "    acc = accuracy_score(y_test, preds)\n",
    "    if acc > best_acc:\n",
    "        best_acc = acc\n",
    "        best_model_name = name\n",
    "\n",
    "best_model = models[best_model_name]\n",
    "y_pred = best_model.predict(X_test)\n",
    "\n",
    "precision = precision_score(y_test, y_pred)\n",
    "recall = recall_score(y_test, y_pred)\n",
    "f1 = f1_score(y_test, y_pred)\n",
    "roc_auc = roc_auc_score(y_test, best_model.predict_proba(X_test)[:, 1]) if hasattr(best_model, \"predict_proba\") else \"N/A\"\n",
    "\n",
    "print(f\"\\nPerformance Metrics for Best Model ({best_model_name}):\")\n",
    "print(f\"Accuracy     : {best_acc:.4f}\")\n",
    "print(f\"Precision    : {precision:.4f}\")\n",
    "print(f\"Recall       : {recall:.4f}\")\n",
    "print(f\"F1-Score     : {f1:.4f}\")\n",
    "print(f\"ROC-AUC      : {roc_auc if roc_auc != 'N/A' else 'Not supported by model'}\")\n"
   ]
  },
  {
   "cell_type": "markdown",
   "id": "e69daf7e",
   "metadata": {},
   "source": [
    "# Save the best model for deployment"
   ]
  },
  {
   "cell_type": "code",
   "execution_count": null,
   "id": "53c9651e",
   "metadata": {},
   "outputs": [
    {
     "data": {
      "text/plain": [
       "['../models/best_model.pkl']"
      ]
     },
     "execution_count": 30,
     "metadata": {},
     "output_type": "execute_result"
    }
   ],
   "source": [
    "# joblib.dump(models[best_model_name], f\"../models/best_model.pkl\")"
   ]
  }
 ],
 "metadata": {
  "kernelspec": {
   "display_name": "Python (steam-ml-env)",
   "language": "python",
   "name": "steam-ml-env"
  },
  "language_info": {
   "codemirror_mode": {
    "name": "ipython",
    "version": 3
   },
   "file_extension": ".py",
   "mimetype": "text/x-python",
   "name": "python",
   "nbconvert_exporter": "python",
   "pygments_lexer": "ipython3",
   "version": "3.12.2"
  }
 },
 "nbformat": 4,
 "nbformat_minor": 5
}
